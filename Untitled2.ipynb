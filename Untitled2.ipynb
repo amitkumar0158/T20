{
  "nbformat": 4,
  "nbformat_minor": 0,
  "metadata": {
    "colab": {
      "name": "Untitled2.ipynb",
      "provenance": [],
      "collapsed_sections": [],
      "authorship_tag": "ABX9TyOk1O0pzxd0yoytALUcAwx0",
      "include_colab_link": true
    },
    "kernelspec": {
      "name": "python3",
      "display_name": "Python 3"
    }
  },
  "cells": [
    {
      "cell_type": "markdown",
      "metadata": {
        "id": "view-in-github",
        "colab_type": "text"
      },
      "source": [
        "<a href=\"https://colab.research.google.com/github/amitkumar0158/T20/blob/master/Untitled2.ipynb\" target=\"_parent\"><img src=\"https://colab.research.google.com/assets/colab-badge.svg\" alt=\"Open In Colab\"/></a>"
      ]
    },
    {
      "cell_type": "code",
      "metadata": {
        "id": "7ix--jfl7mx-",
        "colab_type": "code",
        "colab": {}
      },
      "source": [
        "import numpy as np\n",
        "\n",
        "class twentyTwenty:\n",
        "    def __init__(self, overs, wickets ,runs):\n",
        "        self.overs = overs\n",
        "        self.wickets = wickets\n",
        "        self.runs = runs\n",
        "            \n",
        "    def print_final(self,scores):\n",
        "        print(\"SCOREBOARD\")\n",
        "        for player in scores:\n",
        "            if scores[player][\"Out\"] is False:\n",
        "                print(player + \" - \" + str(scores[player][\"Score\"]) +\n",
        "                    \"* (\" + str(scores[player][\"Balls\"]) + \" balls)\")\n",
        "            else:\n",
        "                print(player + \" - \" + str(scores[player][\"Score\"]) +\n",
        "                    \" (\" + str(scores[player][\"Balls\"]) + \" balls)\")\n",
        "\n",
        "\n",
        "    def randomRuns(self,probability,players_at_crease):\n",
        "        return np.random.choice(np.arange(8), p=probability[players_at_crease[0]])\n",
        "\n",
        "\n",
        "    def ballOverview(self, over , ball, players , score):\n",
        "        if score == 1:\n",
        "            print(str(over)+\" .\"+str(ball +1)+ \"  \"+ str(players)+ \" \"+ \" scores\" + str(score)+ \" \"+ \"runs\")\n",
        "        else:\n",
        "            print(str(over)+\" .\"+str(ball +1)+ \"  \"+ str(players)+ \" \"+ \" scores\" + str(score)+ \" \"+ \"runs\")\n",
        "\n",
        "    def change_strike(self,players_at_crease):\n",
        "        return players_at_crease[::-1]\n",
        "\n",
        "\n",
        "    def start(self):\n",
        "        overs = self.overs\n",
        "        wickets = self.wickets\n",
        "        runs = self.runs\n",
        "\n",
        "        balls = 6\n",
        "\n",
        "        players = [\"Kirat Boli\", \"NS Nodhi\", \"R Rumrah\", \"Shashi Henra\"]\n",
        "\n",
        "        players_at_crease = players[0] +\" and \"+ players[1]\n",
        "        players_at_crease\n",
        "\n",
        "\n",
        "\n",
        "        remainingPlayers = players[2:]\n",
        "\n",
        "\n",
        "        probability = {\n",
        "                 players[0]: [0.05, 0.30, 0.25, 0.10, 0.15, 0.01, 0.09, 0.05],\n",
        "                 players[1]: [0.10, 0.40, 0.20, 0.05, 0.10, 0.01, 0.04, 0.10],\n",
        "                 players[2]: [0.20, 0.30, 0.15, 0.05, 0.05, 0.01, 0.04, 0.20],\n",
        "                 players[3]: [0.30, 0.25, 0.05, 0.00, 0.05, 0.01, 0.04, 0.30]\n",
        "                 }\n",
        "        mainScore_Card = {\n",
        "            players[0]:{\"scores\":0 , \"Balls\":0 , \"out\":False},\n",
        "            players[1]:{\"scores\":0 , \"Balls\":0 , \"out\":False} }\n",
        "\n",
        "        for over in range(overs):\n",
        "          print(str(overs - over) + \" overs left. \"+ str(runs) + \" runs to win\")\n",
        "\n",
        "        for ball in range(balls):\n",
        "            random_Position = self.randomRuns(probability, players_at_crease)\n",
        "            mainScore_Card[players_at_crease[0]][\"Balls\"] +=1\n",
        "            \n",
        "        if random_Position != 7:\n",
        "            runs = runs - random_Position\n",
        "            print(runs)\n",
        "            mainScore_Card[players_at_crease[0]][\"score\"] += random_Position\n",
        "\n",
        "            ballOverview(self,over, ball, currentPlaying[0], random_Position)\n",
        "\n",
        "            if random_position %2  !=0 :\n",
        "                players_at_crease =self.change_strike(players_at_crease)\n",
        "            else:\n",
        "                pass\n",
        "\n",
        "\n",
        "            if runs == 0:\n",
        "                print(\"Bengaluru Won by \"+ str(wickets)+\"Wickets remaining \")\n",
        "                self.print_final(scoreboard)\n",
        "            else:\n",
        "                wickets -=1\n",
        "                mainScore_Card[players_at_crease[0]][\"out\"] = True\n",
        "                print(str(over)+\" .\"+str(ball +1)+ \"  \"+ str(players)+ \"is  \"+ \" OUT\") \n",
        "                 \n",
        "            if wickets == 1:\n",
        "                print(\"Bengaluru lost by\"+ str(runs)+\"runs\")\n",
        "                self.print_final(scoreboard)\n",
        "                return\n",
        "\n",
        "            else:\n",
        "                players_at_crease =[remainingPlayers[0],players_at_crease[1]]\n",
        "                mainScore_Card[remainingPlayers[0]]={\"scores\":0 , \"Balls\":0 , \"out\":False}\n",
        "                remainingPlayers.remove(remainingPlayers[0])\n",
        "                \n",
        "                \n",
        "                players_at_crease = self.change_strike(players_at_crease)\n",
        "\n",
        "            if runs == 0:\n",
        "                print(\"The match is tied\")\n",
        "            \n",
        "            else:\n",
        "                print(\"Bengaluru Lost  by \" + str(runs)+\"runs\")\n",
        "                self.print_final(scoreboard)\n",
        "                return\n",
        "\n",
        "\n",
        "match = twentyTwenty(4,4,40)\n",
        "match.start()\n",
        "                 \n",
        "      "
      ],
      "execution_count": null,
      "outputs": []
    },
    {
      "cell_type": "code",
      "metadata": {
        "id": "eKm1nZCKKnVL",
        "colab_type": "code",
        "colab": {}
      },
      "source": [
        ""
      ],
      "execution_count": null,
      "outputs": []
    },
    {
      "cell_type": "code",
      "metadata": {
        "id": "TIP5HCGbKo4Z",
        "colab_type": "code",
        "colab": {}
      },
      "source": [
        ""
      ],
      "execution_count": null,
      "outputs": []
    },
    {
      "cell_type": "code",
      "metadata": {
        "id": "BxIV8vNwJZ4a",
        "colab_type": "code",
        "colab": {}
      },
      "source": [
        "\n",
        "       "
      ],
      "execution_count": null,
      "outputs": []
    },
    {
      "cell_type": "code",
      "metadata": {
        "id": "Em6VGqi68zw7",
        "colab_type": "code",
        "colab": {}
      },
      "source": [
        ""
      ],
      "execution_count": null,
      "outputs": []
    }
  ]
}