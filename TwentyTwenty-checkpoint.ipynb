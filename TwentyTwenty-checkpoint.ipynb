{
 "cells": [
  {
   "cell_type": "code",
   "execution_count": 23,
   "metadata": {},
   "outputs": [],
   "source": [
    "import numpy as np"
   ]
  },
  {
   "cell_type": "code",
   "execution_count": 37,
   "metadata": {},
   "outputs": [],
   "source": [
    "class remaining_Match :\n",
    "    def __init__(self, overs , wickets , runs):\n",
    "        self.overs = overs\n",
    "        self.wickets = wickets\n",
    "        self. runs = runs"
   ]
  },
  {
   "cell_type": "code",
   "execution_count": 38,
   "metadata": {},
   "outputs": [],
   "source": [
    "def start(self, overs , wickets ,runs):\n",
    "    overs = self.overs\n",
    "    wickets = self.wickets\n",
    "    runs = self.runs"
   ]
  },
  {
   "cell_type": "code",
   "execution_count": 39,
   "metadata": {},
   "outputs": [],
   "source": [
    "wickets = 0"
   ]
  },
  {
   "cell_type": "code",
   "execution_count": 40,
   "metadata": {},
   "outputs": [],
   "source": [
    "balls = 6"
   ]
  },
  {
   "cell_type": "code",
   "execution_count": 41,
   "metadata": {},
   "outputs": [],
   "source": [
    "players = [\"Kirat Boli\", \"NS Nodhi\", \"R Rumrah\", \"Shashi Henra\"]"
   ]
  },
  {
   "cell_type": "code",
   "execution_count": 42,
   "metadata": {},
   "outputs": [],
   "source": [
    "remainingPlayers = players[2:]"
   ]
  },
  {
   "cell_type": "code",
   "execution_count": 43,
   "metadata": {},
   "outputs": [],
   "source": [
    " # Given Probabilies\n",
    "probability = {\n",
    "                 players[0]: [0.05, 0.30, 0.25, 0.10, 0.15, 0.01, 0.09, 0.05],\n",
    "                 players[1]: [0.10, 0.40, 0.20, 0.05, 0.10, 0.01, 0.04, 0.10],\n",
    "                 players[2]: [0.20, 0.30, 0.15, 0.05, 0.05, 0.01, 0.04, 0.20],\n",
    "                 players[3]: [0.30, 0.25, 0.05, 0.00, 0.05, 0.01, 0.04, 0.30]\n",
    "                 }"
   ]
  },
  {
   "cell_type": "code",
   "execution_count": 44,
   "metadata": {},
   "outputs": [],
   "source": [
    "mainScore_Card ={\n",
    "    players[0]:{\"scores\":0 , \"Balls\":0 , \"out\":False},\n",
    "    players[1]:{\"scores\":0 , \"Balls\":0 , \"out\":False} }"
   ]
  },
  {
   "cell_type": "code",
   "execution_count": 45,
   "metadata": {},
   "outputs": [
    {
     "data": {
      "text/plain": [
       "'Kirat Boli and NS Nodhi'"
      ]
     },
     "execution_count": 45,
     "metadata": {},
     "output_type": "execute_result"
    }
   ],
   "source": [
    "players_at_crease = players[wickets] +\" and \"+ players[wickets +1]\n",
    "players_at_crease"
   ]
  },
  {
   "cell_type": "code",
   "execution_count": 2,
   "metadata": {},
   "outputs": [
    {
     "name": "stdout",
     "output_type": "stream",
     "text": [
      "4 overs left. 40 runs to win\n",
      "3 overs left. 40 runs to win\n",
      "2 overs left. 40 runs to win\n",
      "1 overs left. 40 runs to win\n"
     ]
    }
   ],
   "source": [
    "overs = 4\n",
    "runs = 40\n",
    "for over in range (overs):\n",
    "    print(str(overs - over) + \" overs left. \"+ str(runs) + \" runs to win\")"
   ]
  },
  {
   "cell_type": "code",
   "execution_count": null,
   "metadata": {},
   "outputs": [],
   "source": []
  }
 ],
 "metadata": {
  "kernelspec": {
   "display_name": "Python 3",
   "language": "python",
   "name": "python3"
  },
  "language_info": {
   "codemirror_mode": {
    "name": "ipython",
    "version": 3
   },
   "file_extension": ".py",
   "mimetype": "text/x-python",
   "name": "python",
   "nbconvert_exporter": "python",
   "pygments_lexer": "ipython3",
   "version": "3.7.6"
  }
 },
 "nbformat": 4,
 "nbformat_minor": 4
}
